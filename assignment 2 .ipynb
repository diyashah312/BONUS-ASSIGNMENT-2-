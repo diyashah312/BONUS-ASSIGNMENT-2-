{
 "cells": [
  {
   "cell_type": "markdown",
   "metadata": {},
   "source": [
    "# Week 2 Practice Bonus Assignment Solution (30 Marks)\n",
    "**Please upload your work onto Github and submit a link to your Github repository on Google Classroom.**"
   ]
  },
  {
   "cell_type": "markdown",
   "metadata": {},
   "source": [
    "## Student Details\n",
    "\n",
    "- **Name:** Diya Shah\n",
    "- **Division:** B\n",
    "- **Roll Number:** \n",
    "- **How many hours did it take you to complete this assignment?** \n",
    "- **Any other comments?**"
   ]
  },
  {
   "cell_type": "markdown",
   "metadata": {},
   "source": [
    "**This assignment will cover the following concepts taught in class:**\n",
    "\n",
    "- Lists / 5 marks\n",
    "- Dictionaries / 5 marks\n",
    "- String Functions / 5 marks\n",
    "- Functions / 15 marks"
   ]
  },
  {
   "cell_type": "markdown",
   "metadata": {},
   "source": [
    "## Lists (5 Marks)"
   ]
  },
  {
   "cell_type": "code",
   "execution_count": 11,
   "metadata": {},
   "outputs": [
    {
     "name": "stdout",
     "output_type": "stream",
     "text": [
      "['Maaza', 'Cocacola']\n"
     ]
    }
   ],
   "source": [
    "# Q1 Create a list that contains 2 of your favorite soft drinks and print this list\n",
    "list_of_drinks = ['Maaza', 'Cocacola']\n",
    "print(list_of_drinks)"
   ]
  },
  {
   "cell_type": "code",
   "execution_count": 12,
   "metadata": {},
   "outputs": [
    {
     "name": "stdout",
     "output_type": "stream",
     "text": [
      "['Maaza', 'Cocacola', 'Sprite', 'SevenUp', 'Fanta']\n"
     ]
    }
   ],
   "source": [
    "# Q2 Add 3 more drinks to this list and print this list\n",
    "\n",
    "list_of_drinks.append('Sprite')\n",
    "list_of_drinks.append('SevenUp')\n",
    "list_of_drinks.append('Fanta')\n",
    "print(list_of_drinks)"
   ]
  },
  {
   "cell_type": "code",
   "execution_count": 13,
   "metadata": {},
   "outputs": [
    {
     "name": "stdout",
     "output_type": "stream",
     "text": [
      "5\n"
     ]
    }
   ],
   "source": [
    "# Q3 Create and Print a variable that stores the number of values your list of favorite soft drinks has\n",
    "number_of_values = len(list_of_drinks)\n",
    "print(number_of_values)"
   ]
  },
  {
   "cell_type": "code",
   "execution_count": 14,
   "metadata": {},
   "outputs": [
    {
     "name": "stdout",
     "output_type": "stream",
     "text": [
      "SevenUp\n"
     ]
    }
   ],
   "source": [
    "# Q4 Print the second last value in your list of favorite soft drinks\n",
    "second_last = list_of_drinks[-2]\n",
    "print(second_last)"
   ]
  },
  {
   "cell_type": "code",
   "execution_count": 15,
   "metadata": {},
   "outputs": [
    {
     "name": "stdout",
     "output_type": "stream",
     "text": [
      "SevenUp\n"
     ]
    }
   ],
   "source": [
    "# Q4 Alternate Answer\n",
    "alternate_ans = list_of_drinks[3]\n",
    "print(alternate_ans)"
   ]
  },
  {
   "cell_type": "code",
   "execution_count": 16,
   "metadata": {},
   "outputs": [
    {
     "name": "stdout",
     "output_type": "stream",
     "text": [
      "['Maaza', 'Cocacola', 'Big Cola', 'SevenUp', 'Fanta']\n"
     ]
    }
   ],
   "source": [
    "# Q5 Change the value of the second index to \"Big Cola\" and print your list of favorite soft drinks\n",
    "list_of_drinks[2] = 'Big Cola'\n",
    "print(list_of_drinks)"
   ]
  },
  {
   "cell_type": "markdown",
   "metadata": {},
   "source": [
    "## Dictionaries (5 Marks)"
   ]
  },
  {
   "cell_type": "code",
   "execution_count": 18,
   "metadata": {},
   "outputs": [
    {
     "name": "stdout",
     "output_type": "stream",
     "text": [
      "{'fav_movies': ['YJHD', 'ZNMD'], 'fav_food': ['pizza', 'chinese']}\n"
     ]
    }
   ],
   "source": [
    "# Q1 Create and print a dictionary called \"my favorites\" that that contains 2 keys that represent \n",
    "# lists of your favorite movies and favorite foods\n",
    "my_favorites = {\n",
    "    'fav_movies': ['YJHD','ZNMD'],\n",
    "    'fav_food': ['pizza','chinese']\n",
    "}\n",
    "\n",
    "print(my_favorites)"
   ]
  },
  {
   "cell_type": "code",
   "execution_count": 19,
   "metadata": {},
   "outputs": [
    {
     "name": "stdout",
     "output_type": "stream",
     "text": [
      "{'fav_movies': ['YJHD', 'ZNMD'], 'fav_food': ['pizza', 'chinese'], 'Drinks': ['Maaza', 'Cola']}\n"
     ]
    }
   ],
   "source": [
    "# Q2 Add another key called \"Drinks\" to the \"my_favorites\" dictionary that is a list of your favorite drinks. \n",
    "my_favorites['Drinks'] = ['Maaza', 'Cola']\n",
    "# Please print your \"my_favorites\" dictionary after\n",
    "print(my_favorites)"
   ]
  },
  {
   "cell_type": "code",
   "execution_count": 22,
   "metadata": {},
   "outputs": [
    {
     "name": "stdout",
     "output_type": "stream",
     "text": [
      "{'fav_movies': ['YJHD', 'ZNMD'], 'fav_food': ['pizza', 'chinese', 'mexican'], 'Drinks': ['Maaza', 'Cola']}\n"
     ]
    }
   ],
   "source": [
    "# Q3 Add another favorite food to list of favorite foods list in the \"my_favorites\" dictionary\n",
    "my_favorites[ 'fav_food'].append('mexican')\n",
    "\n",
    "# Please print your \"my_favorite\" dictionary\n",
    "print(my_favorites)\n"
   ]
  },
  {
   "cell_type": "code",
   "execution_count": 23,
   "metadata": {},
   "outputs": [
    {
     "name": "stdout",
     "output_type": "stream",
     "text": [
      "2\n"
     ]
    }
   ],
   "source": [
    "# Q4 Print the value for your favorite movies from the \"my_favorites\" dictionary\n",
    "#number_of_values = len(list_of_drinks)\n",
    "#print(number_of_values)\n",
    "print(len(my_favorites['fav_movies']))"
   ]
  },
  {
   "cell_type": "code",
   "execution_count": 26,
   "metadata": {},
   "outputs": [
    {
     "name": "stdout",
     "output_type": "stream",
     "text": [
      "3\n"
     ]
    }
   ],
   "source": [
    "# Q5A Print the total keys in your \"my_favorites\" dictionary \n",
    "\n",
    "print(len(my_favorites.keys()))\n",
    "\n"
   ]
  },
  {
   "cell_type": "code",
   "execution_count": 31,
   "metadata": {},
   "outputs": [
    {
     "name": "stdout",
     "output_type": "stream",
     "text": [
      "3\n",
      "2\n",
      "2\n"
     ]
    }
   ],
   "source": [
    "# Q5B Print the total values for each key in your \"my_favorites\" dictionary\n",
    "print(len(my_favorites['fav_food']))\n",
    "print(len(my_favorites['fav_movies']))\n",
    "print(len(my_favorites['Drinks']))"
   ]
  },
  {
   "cell_type": "markdown",
   "metadata": {},
   "source": [
    "## String Functions (5 Marks) \n",
    "\n",
    "[Reference Library](https://www.w3schools.com/python/ref_string_replace.asp)"
   ]
  },
  {
   "cell_type": "code",
   "execution_count": 46,
   "metadata": {},
   "outputs": [
    {
     "name": "stdout",
     "output_type": "stream",
     "text": [
      "sadasdsa\n"
     ]
    }
   ],
   "source": [
    "# Q1 Create a string called \"random_characters\" and enter random characters into it (e.g \"sadasdsa\"). \n",
    "random_characters = 'sadasdsa'\n",
    "\n",
    "# Print if all characters in random_characters are lowercase\n",
    "if random_characters.islower() == True:\n",
    "    print(random_characters)\n",
    "else:\n",
    "    pass"
   ]
  },
  {
   "cell_type": "code",
   "execution_count": 45,
   "metadata": {},
   "outputs": [
    {
     "name": "stdout",
     "output_type": "stream",
     "text": [
      "['hello', 'a', 'd', 'a', 's', 'd', 's', 'a']\n"
     ]
    }
   ],
   "source": [
    "# Q2 Replace any one character in \"random_characters\" with \"hello\". Print the result \n",
    "# random_characters = list(random_characters)\n",
    "# random_characters[0] = 'hello'\n",
    "# print(random_characters)"
   ]
  },
  {
   "cell_type": "code",
   "execution_count": 47,
   "metadata": {},
   "outputs": [
    {
     "name": "stdout",
     "output_type": "stream",
     "text": [
      "SADASDSA\n"
     ]
    }
   ],
   "source": [
    "# Q3 Convert \"random_characters\" to all upper case letters\n",
    "upper = random_characters.upper()\n",
    "print(upper)"
   ]
  },
  {
   "cell_type": "code",
   "execution_count": 49,
   "metadata": {},
   "outputs": [
    {
     "name": "stdout",
     "output_type": "stream",
     "text": [
      "['Hum Tum', ' Kal Ho Na Ho', ' Dhoom 2']\n"
     ]
    }
   ],
   "source": [
    "# Q4 \n",
    "# Create a string called \"my_favorite_movies\" with the following value: \"Hum Tum, Kal Ho Na Ho, Dhoom 2\". \n",
    "\n",
    "my_favorite_movies = \"Hum Tum, Kal Ho Na Ho, Dhoom 2\"\n",
    "# Now convert \"my_favorite_movies\" into a list structured like this [\"Hum Tum\", \"Kal Ho Na Ho\", \"Dhoom 2\"]\n",
    "my_favorite_movies = my_favorite_movies.split(',')\n",
    "\n",
    "\n",
    "# Print \"my_favorite_movies\"\n",
    "print(my_favorite_movies)"
   ]
  },
  {
   "cell_type": "markdown",
   "metadata": {},
   "source": [
    "## Functions (15 Marks / 3 marks for each question)\n",
    "**PLEASE NOTE THIS IS A BONUS POINT ASSIGNMENT. NOT ALL QUESTIONS ARE GOING TO BE EASY. IT'S CALLED BONUS FOR A REASON.** Please refer to the [Textbook](info370a-w19.github.io/python-basics/)"
   ]
  },
  {
   "cell_type": "markdown",
   "metadata": {},
   "source": [
    "### Q1) Create a function called is_greater that: \n",
    "- Accepts 2 numbers\n",
    "- Returns a boolean value that indicates if variable 1 is greater than variable 2\n",
    "- Please create and print a variable that uses this function"
   ]
  },
  {
   "cell_type": "code",
   "execution_count": 51,
   "metadata": {},
   "outputs": [],
   "source": [
    "# Write your function here\n",
    "def is_greater(num1, num2):\n",
    "    if num1 > num2:\n",
    "        return True"
   ]
  },
  {
   "cell_type": "code",
   "execution_count": 54,
   "metadata": {},
   "outputs": [
    {
     "name": "stdout",
     "output_type": "stream",
     "text": [
      "True\n"
     ]
    }
   ],
   "source": [
    "# Create and print a variable that uses this function\n",
    "is_greater_variable = is_greater(4,3)\n",
    "print(is_greater_variable)"
   ]
  },
  {
   "cell_type": "markdown",
   "metadata": {},
   "source": [
    "### Q2) Create a function total_list_length\n",
    "- Accepts 2 lists\n",
    "- Calculate the length of each of the two lists\n",
    "- Returns the length of the combined lists\n",
    "- Please create and print a variable that uses this function"
   ]
  },
  {
   "cell_type": "code",
   "execution_count": 56,
   "metadata": {},
   "outputs": [],
   "source": [
    "# Write your function here\n",
    "def total_list_length(list1, list2):\n",
    "    len_of_list1 = len(list1)\n",
    "    len_of_list2 = len(list2)\n",
    "    return len_of_list1 + len_of_list2"
   ]
  },
  {
   "cell_type": "code",
   "execution_count": 57,
   "metadata": {},
   "outputs": [
    {
     "name": "stdout",
     "output_type": "stream",
     "text": [
      "7\n"
     ]
    }
   ],
   "source": [
    "# Create and print a variable that uses this function\n",
    "list1=[1, 2, 3]\n",
    "list2=[3, 4, 5, 6]\n",
    "combined_list = total_list_length(list1, list2)\n",
    "print(combined_list)"
   ]
  },
  {
   "cell_type": "markdown",
   "metadata": {},
   "source": [
    "### Q3) Create a function called contains_titanic that: \n",
    "- Accepts a list of movies \n",
    "- Returns \"Titanic exists\" If it is present in the list \n",
    "- Returns \"Titanic Does not exist\"if it is not present in the list\n",
    "- Please create and print a variable that uses this function"
   ]
  },
  {
   "cell_type": "code",
   "execution_count": 72,
   "metadata": {},
   "outputs": [],
   "source": [
    "# Write your function here\n",
    "def contains_titanic(list_of_movies):\n",
    "    if 'Titanic' in list_of_movies:\n",
    "        return 'Titanic exists'\n",
    "    else:\n",
    "        return 'Titanic Does not exists'"
   ]
  },
  {
   "cell_type": "code",
   "execution_count": 74,
   "metadata": {},
   "outputs": [
    {
     "name": "stdout",
     "output_type": "stream",
     "text": [
      "Titanic exists\n",
      "Titanic Does not exists\n"
     ]
    }
   ],
   "source": [
    "# Create and print a variable that uses this function\n",
    "contains_titanic_list = [\"YJHD\", \"ZNMD\", \"Titanic\"]\n",
    "does_not_contain = [\"YJHD\", \"ZNMD\"]\n",
    "\n",
    "print(contains_titanic(contains_titanic_list))\n",
    "print(contains_titanic(does_not_contain))"
   ]
  },
  {
   "cell_type": "markdown",
   "metadata": {},
   "source": [
    "### Q4) Create a function called list_average that: \n",
    "\n",
    "- Accepts a list of numbers\n",
    "- Returns the average of the list of numbers\n",
    "- Please create and print a variable that uses this function"
   ]
  },
  {
   "cell_type": "code",
   "execution_count": 75,
   "metadata": {},
   "outputs": [],
   "source": [
    "# Write your function here\n",
    "def list_average(list_of_numbers):\n",
    "    average = sum(list_of_numbers) / len(list_of_numbers)\n",
    "    return average\n"
   ]
  },
  {
   "cell_type": "code",
   "execution_count": 76,
   "metadata": {},
   "outputs": [
    {
     "name": "stdout",
     "output_type": "stream",
     "text": [
      "4.0\n"
     ]
    }
   ],
   "source": [
    "# Create and print a variable that uses this function\n",
    "average_variable = list_average([1, 2, 3, 4, 5, 6, 7])\n",
    "print(average_variable)"
   ]
  },
  {
   "cell_type": "markdown",
   "metadata": {},
   "source": [
    "### Q5) Create a function called longest_word_in_list that:\n",
    "- Accepts a list of words\n",
    "- Returns the longest string in the list\n",
    "- Please create and print a variable that uses this function"
   ]
  },
  {
   "cell_type": "code",
   "execution_count": 79,
   "metadata": {},
   "outputs": [],
   "source": [
    "# Write your function here\n",
    "def longest_word_in_list(list_of_words):\n",
    "#     longest = max(longest_word_in_list, key=len)\n",
    "\n",
    "    count = 0    #You set the count to 0\n",
    "    for i in list_of_words: # Go through the whole list\n",
    "        if len(i) > count: #Checking for the longest word(string)\n",
    "            count = len(i)\n",
    "            word = i\n",
    "    return word"
   ]
  },
  {
   "cell_type": "code",
   "execution_count": 80,
   "metadata": {},
   "outputs": [
    {
     "name": "stdout",
     "output_type": "stream",
     "text": [
      "geeks\n"
     ]
    }
   ],
   "source": [
    "# Create and print a variable that uses this function\n",
    "longest_string = longest_word_in_list(['gfg', 'is', 'best', 'for', 'geeks'])\n",
    "print(longest_string)"
   ]
  },
  {
   "cell_type": "code",
   "execution_count": null,
   "metadata": {},
   "outputs": [],
   "source": []
  }
 ],
 "metadata": {
  "kernelspec": {
   "display_name": "Python 3",
   "language": "python",
   "name": "python3"
  },
  "language_info": {
   "codemirror_mode": {
    "name": "ipython",
    "version": 3
   },
   "file_extension": ".py",
   "mimetype": "text/x-python",
   "name": "python",
   "nbconvert_exporter": "python",
   "pygments_lexer": "ipython3",
   "version": "3.8.8"
  }
 },
 "nbformat": 4,
 "nbformat_minor": 2
}
